{
 "cells": [
  {
   "cell_type": "markdown",
   "id": "542883fb",
   "metadata": {},
   "source": [
    "# Exercici 1"
   ]
  },
  {
   "cell_type": "code",
   "execution_count": 2,
   "id": "9a80da06",
   "metadata": {},
   "outputs": [],
   "source": [
    "trimestres = [[\"Gener\", \"Febrer\", \"Març\"], [\"Abril\", \"Maig\", \"Juny\"], [\"Juliol\", \"Agost\", \"Septembre\"],[\"Octubre\", \"Novembre\", \"Desembre\"]]"
   ]
  },
  {
   "cell_type": "markdown",
   "id": "8ac07f61",
   "metadata": {},
   "source": [
    "# Exercici 2"
   ]
  },
  {
   "cell_type": "code",
   "execution_count": 3,
   "id": "2538eaf0",
   "metadata": {
    "scrolled": true
   },
   "outputs": [
    {
     "name": "stdout",
     "output_type": "stream",
     "text": [
      "Febrer\n"
     ]
    }
   ],
   "source": [
    "messegonprimertrimestre = trimestres[0][1]\n",
    "print (messegonprimertrimestre)\n"
   ]
  },
  {
   "cell_type": "markdown",
   "id": "24beeb7d",
   "metadata": {},
   "source": [
    "#### ---"
   ]
  },
  {
   "cell_type": "code",
   "execution_count": 5,
   "id": "0e726580",
   "metadata": {},
   "outputs": [
    {
     "name": "stdout",
     "output_type": "stream",
     "text": [
      "Gener\n",
      "Febrer\n",
      "Març\n"
     ]
    }
   ],
   "source": [
    "for mesos in trimestres[0]:\n",
    "    print(mesos)\n"
   ]
  },
  {
   "cell_type": "markdown",
   "id": "19abae92",
   "metadata": {},
   "source": [
    "#### ---"
   ]
  },
  {
   "cell_type": "code",
   "execution_count": 7,
   "id": "599b8c17",
   "metadata": {},
   "outputs": [
    {
     "name": "stdout",
     "output_type": "stream",
     "text": [
      "Septembre, Octubre\n"
     ]
    }
   ],
   "source": [
    "print(trimestres[2][2] + \", \" + trimestres[3][0])"
   ]
  },
  {
   "cell_type": "markdown",
   "id": "325b81c0",
   "metadata": {},
   "source": [
    "# Exercici 3"
   ]
  },
  {
   "cell_type": "code",
   "execution_count": 24,
   "id": "2eb15544",
   "metadata": {},
   "outputs": [
    {
     "name": "stdout",
     "output_type": "stream",
     "text": [
      "Hi han 10 números\n",
      "El número 3 es repeteix 1 vegades\n",
      "El número 3 i 4 es repeteixen 2 vegades\n",
      "El número mes gran es 454\n",
      "Els 3 números mes petits son 3, 4, 10\n",
      "El rang d’aquesta llista es 451\n"
     ]
    }
   ],
   "source": [
    "nombres = [10,34,67,89,12,3,24,98,454,4]\n",
    "print(\"Hi han \" + str(len(nombres)) + \" números\")\n",
    "print(\"El número 3 es repeteix \" + str(nombres.count(3)) + \" vegades\")\n",
    "print(\"El número 3 i 4 es repeteixen \" + str(nombres.count(3)+nombres.count(4)) + \" vegades\")\n",
    "print(\"El número mes gran es \" + str(max(nombres)))\n",
    "nombres.sort()\n",
    "print(\"Els 3 números mes petits son \" + str(nombres[0]) + \", \" + str(nombres[1]) + \", \" + str(nombres[2]))\n",
    "print(\"El rang d’aquesta llista es \" + str(max(nombres)-min(nombres)))\n",
    "\n",
    "\n"
   ]
  },
  {
   "cell_type": "markdown",
   "id": "758e1105",
   "metadata": {},
   "source": [
    "# Exercici 4"
   ]
  },
  {
   "cell_type": "code",
   "execution_count": 50,
   "id": "60fade11",
   "metadata": {},
   "outputs": [
    {
     "name": "stdout",
     "output_type": "stream",
     "text": [
      "{'Pomes': {'Qty': 5, '€': 0.42}, 'Peres': {'Qty': 3, '€': 0.66}, 'platan': {'Qty': 5, '€': 0.42}}\n",
      "Cost de le peres 1.98 €\n",
      "En total hem comprat 3 fruites\n",
      "La fruita cara es Peres\n"
     ]
    }
   ],
   "source": [
    "compra = { \"Pomes\" : {\"Qty\": 5, \"€\": 0.42}, \"Peres\" : {\"Qty\": 3, \"€\": 0.66} }\n",
    "compra[\"platan\"] = {\"Qty\": 5, \"€\": 0.42}\n",
    "print(compra)\n",
    "print(\"Cost de le peres \" + str(compra[\"Peres\"][\"Qty\"]*compra[\"Peres\"][\"€\"]) + \" €\")\n",
    "print(\"En total hem comprat \" + str(len(compra)) + \" fruites\")\n",
    "\n",
    "preu=0\n",
    "\n",
    "for fruita in compra:\n",
    "    if preu<compra[fruita][\"€\"]:\n",
    "        preu=compra[fruita][\"€\"]\n",
    "        fruitaCara=fruita\n",
    "\n",
    "print(\"La fruita cara es \" + fruitaCara)\n",
    "\n"
   ]
  }
 ],
 "metadata": {
  "kernelspec": {
   "display_name": "Python 3 (ipykernel)",
   "language": "python",
   "name": "python3"
  },
  "language_info": {
   "codemirror_mode": {
    "name": "ipython",
    "version": 3
   },
   "file_extension": ".py",
   "mimetype": "text/x-python",
   "name": "python",
   "nbconvert_exporter": "python",
   "pygments_lexer": "ipython3",
   "version": "3.9.12"
  }
 },
 "nbformat": 4,
 "nbformat_minor": 5
}
